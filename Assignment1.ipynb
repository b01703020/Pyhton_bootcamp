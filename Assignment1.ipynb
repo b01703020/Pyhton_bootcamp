{
 "cells": [
  {
   "cell_type": "markdown",
   "id": "164c04ba",
   "metadata": {},
   "source": [
    "# Assignment 1"
   ]
  },
  {
   "cell_type": "code",
   "execution_count": null,
   "id": "0c668604",
   "metadata": {},
   "outputs": [],
   "source": []
  },
  {
   "cell_type": "markdown",
   "id": "39fa5b89",
   "metadata": {},
   "source": [
    "Q1\n",
    "\n",
    "Enter the following into Python, assigning each to a unique variable name:\n",
    "\n",
    "(a) 4\n",
    "\n",
    "(b) 3.1415\n",
    "\n",
    "(c) 1.0\n",
    "\n",
    "(d) 2+4j\n",
    "\n",
    "(e) ‘Hello’\n",
    "\n",
    "(f) ‘World’"
   ]
  },
  {
   "cell_type": "code",
   "execution_count": 1,
   "id": "40acb48f",
   "metadata": {},
   "outputs": [],
   "source": [
    "a,b,c,d,e,f = 4,3.1415,1.0,2+4j,'Hello','World'"
   ]
  },
  {
   "cell_type": "code",
   "execution_count": null,
   "id": "2f589e5e",
   "metadata": {},
   "outputs": [],
   "source": []
  },
  {
   "cell_type": "markdown",
   "id": "11fdf3d0",
   "metadata": {},
   "source": [
    "Q2\n",
    "\n",
    "Use Python to determine the type of each variable."
   ]
  },
  {
   "cell_type": "code",
   "execution_count": 2,
   "id": "8060843e",
   "metadata": {},
   "outputs": [
    {
     "data": {
      "text/plain": [
       "[int, float, float, complex, str, str]"
      ]
     },
     "execution_count": 2,
     "metadata": {},
     "output_type": "execute_result"
    }
   ],
   "source": [
    "[type(x) for x in [a,b,c,d,e,f]]"
   ]
  },
  {
   "cell_type": "code",
   "execution_count": null,
   "id": "b96724cc",
   "metadata": {},
   "outputs": [],
   "source": []
  },
  {
   "cell_type": "markdown",
   "id": "0064587a",
   "metadata": {},
   "source": [
    "Q3\n",
    "\n",
    "Which of the 6 types can be:\n",
    "\n",
    "(a) Added +\n",
    "\n",
    "(b) Subtracted −\n",
    "\n",
    "(c) Multiplied ∗\n",
    "\n",
    "(d) Divided /"
   ]
  },
  {
   "cell_type": "code",
   "execution_count": 3,
   "id": "2bfaf264",
   "metadata": {},
   "outputs": [
    {
     "name": "stdout",
     "output_type": "stream",
     "text": [
      "8\n",
      "0\n",
      "16\n",
      "1.0\n",
      "7.141500000000001\n",
      "0.8584999999999998\n",
      "12.566\n",
      "1.273277096928219\n",
      "5.0\n",
      "3.0\n",
      "4.0\n",
      "4.0\n",
      "(6+4j)\n",
      "(2-4j)\n",
      "(8+16j)\n",
      "(0.4-0.8j)\n",
      "Error appears when 4 + Hello\n",
      "Error appears when 4 - Hello\n",
      "HelloHelloHelloHello\n",
      "Error appears when 4 / Hello\n",
      "Error appears when 4 + World\n",
      "Error appears when 4 - World\n",
      "WorldWorldWorldWorld\n",
      "Error appears when 4 / World\n",
      "7.141500000000001\n",
      "-0.8584999999999998\n",
      "12.566\n",
      "0.785375\n",
      "6.283\n",
      "0.0\n",
      "9.86902225\n",
      "1.0\n",
      "4.141500000000001\n",
      "2.1415\n",
      "3.1415\n",
      "3.1415\n",
      "(5.141500000000001+4j)\n",
      "(1.1415000000000002-4j)\n",
      "(6.283+12.566j)\n",
      "(0.31415000000000004-0.6283000000000001j)\n",
      "Error appears when 3.1415 + Hello\n",
      "Error appears when 3.1415 - Hello\n",
      "Error appears when 3.1415 * Hello\n",
      "Error appears when 3.1415 / Hello\n",
      "Error appears when 3.1415 + World\n",
      "Error appears when 3.1415 - World\n",
      "Error appears when 3.1415 * World\n",
      "Error appears when 3.1415 / World\n",
      "5.0\n",
      "-3.0\n",
      "4.0\n",
      "0.25\n",
      "4.141500000000001\n",
      "-2.1415\n",
      "3.1415\n",
      "0.31831927423205475\n",
      "2.0\n",
      "0.0\n",
      "1.0\n",
      "1.0\n",
      "(3+4j)\n",
      "(-1-4j)\n",
      "(2+4j)\n",
      "(0.1-0.2j)\n",
      "Error appears when 1.0 + Hello\n",
      "Error appears when 1.0 - Hello\n",
      "Error appears when 1.0 * Hello\n",
      "Error appears when 1.0 / Hello\n",
      "Error appears when 1.0 + World\n",
      "Error appears when 1.0 - World\n",
      "Error appears when 1.0 * World\n",
      "Error appears when 1.0 / World\n",
      "(6+4j)\n",
      "(-2+4j)\n",
      "(8+16j)\n",
      "(0.5+1j)\n",
      "(5.141500000000001+4j)\n",
      "(-1.1415000000000002+4j)\n",
      "(6.283+12.566j)\n",
      "(0.6366385484641095+1.273277096928219j)\n",
      "(3+4j)\n",
      "(1+4j)\n",
      "(2+4j)\n",
      "(2+4j)\n",
      "(4+8j)\n",
      "0j\n",
      "(-12+16j)\n",
      "(1+0j)\n",
      "Error appears when (2+4j) + Hello\n",
      "Error appears when (2+4j) - Hello\n",
      "Error appears when (2+4j) * Hello\n",
      "Error appears when (2+4j) / Hello\n",
      "Error appears when (2+4j) + World\n",
      "Error appears when (2+4j) - World\n",
      "Error appears when (2+4j) * World\n",
      "Error appears when (2+4j) / World\n",
      "Error appears when Hello + 4\n",
      "Error appears when Hello - 4\n",
      "HelloHelloHelloHello\n",
      "Error appears when Hello / 4\n",
      "Error appears when Hello + 3.1415\n",
      "Error appears when Hello - 3.1415\n",
      "Error appears when Hello * 3.1415\n",
      "Error appears when Hello / 3.1415\n",
      "Error appears when Hello + 1.0\n",
      "Error appears when Hello - 1.0\n",
      "Error appears when Hello * 1.0\n",
      "Error appears when Hello / 1.0\n",
      "Error appears when Hello + (2+4j)\n",
      "Error appears when Hello - (2+4j)\n",
      "Error appears when Hello * (2+4j)\n",
      "Error appears when Hello / (2+4j)\n",
      "HelloHello\n",
      "Error appears when Hello - Hello\n",
      "Error appears when Hello * Hello\n",
      "Error appears when Hello / Hello\n",
      "HelloWorld\n",
      "Error appears when Hello - World\n",
      "Error appears when Hello * World\n",
      "Error appears when Hello / World\n",
      "Error appears when World + 4\n",
      "Error appears when World - 4\n",
      "WorldWorldWorldWorld\n",
      "Error appears when World / 4\n",
      "Error appears when World + 3.1415\n",
      "Error appears when World - 3.1415\n",
      "Error appears when World * 3.1415\n",
      "Error appears when World / 3.1415\n",
      "Error appears when World + 1.0\n",
      "Error appears when World - 1.0\n",
      "Error appears when World * 1.0\n",
      "Error appears when World / 1.0\n",
      "Error appears when World + (2+4j)\n",
      "Error appears when World - (2+4j)\n",
      "Error appears when World * (2+4j)\n",
      "Error appears when World / (2+4j)\n",
      "WorldHello\n",
      "Error appears when World - Hello\n",
      "Error appears when World * Hello\n",
      "Error appears when World / Hello\n",
      "WorldWorld\n",
      "Error appears when World - World\n",
      "Error appears when World * World\n",
      "Error appears when World / World\n"
     ]
    }
   ],
   "source": [
    "XY = [(x,y) for  x in [a,b,c,d,e,f] for y in [a,b,c,d,e,f]]\n",
    "\n",
    "for pair in XY:\n",
    "    try: \n",
    "        print(pair[0]+pair[1])\n",
    "    except:\n",
    "        print('Error appears when',pair[0],'+',pair[1])\n",
    "        \n",
    "    try: \n",
    "        print(pair[0]-pair[1])\n",
    "    except:\n",
    "        print('Error appears when',pair[0],'-',pair[1])\n",
    "        \n",
    "    try: \n",
    "        print(pair[0]*pair[1])\n",
    "    except:\n",
    "        print('Error appears when',pair[0],'*',pair[1])\n",
    "        \n",
    "    try: \n",
    "        print(pair[0]/pair[1])\n",
    "    except:\n",
    "        print('Error appears when',pair[0],'/',pair[1])"
   ]
  },
  {
   "cell_type": "code",
   "execution_count": 4,
   "id": "f4b059c8",
   "metadata": {},
   "outputs": [
    {
     "name": "stdout",
     "output_type": "stream",
     "text": [
      "8\n",
      "0\n",
      "16\n",
      "1.0\n",
      "6.283\n",
      "0.0\n",
      "9.86902225\n",
      "1.0\n",
      "2.0\n",
      "0.0\n",
      "1.0\n",
      "1.0\n",
      "(4+8j)\n",
      "0j\n",
      "(-12+16j)\n",
      "(1+0j)\n",
      "HelloHello\n",
      "Error appears when Hello - Hello\n",
      "Error appears when Hello * Hello\n",
      "Error appears when Hello / Hello\n",
      "WorldWorld\n",
      "Error appears when World - World\n",
      "Error appears when World * World\n",
      "Error appears when World / World\n"
     ]
    }
   ],
   "source": [
    "XX = [(x,x) for  x in [a,b,c,d,e,f]]\n",
    "\n",
    "for pair in XX:\n",
    "    try: \n",
    "        print(pair[0]+pair[1])\n",
    "    except:\n",
    "        print('Error appears when',pair[0],'+',pair[1])\n",
    "        \n",
    "    try: \n",
    "        print(pair[0]-pair[1])\n",
    "    except:\n",
    "        print('Error appears when',pair[0],'-',pair[1])\n",
    "        \n",
    "    try: \n",
    "        print(pair[0]*pair[1])\n",
    "    except:\n",
    "        print('Error appears when',pair[0],'*',pair[1])\n",
    "        \n",
    "    try: \n",
    "        print(pair[0]/pair[1])\n",
    "    except:\n",
    "        print('Error appears when',pair[0],'/',pair[1])"
   ]
  },
  {
   "cell_type": "code",
   "execution_count": null,
   "id": "36408e0e",
   "metadata": {},
   "outputs": [],
   "source": []
  },
  {
   "cell_type": "markdown",
   "id": "6c41b38a",
   "metadata": {},
   "source": [
    "Q5\n",
    "\n",
    "Input the variable ex = 'Python is an interesting and useful language for numerical computing!'\n",
    "\n",
    "Using slicing, extract:\n",
    "\n",
    "(a) 'Python'\n",
    "\n",
    "(b) '!'\n",
    "\n",
    "(c) 'computing'\n",
    "\n",
    "(d) 'in'\n",
    "\n",
    "Note: There are multiple ways to complete the above exercises (a)-(d).\n",
    "\n",
    "(e) '!gnitupmoc laciremun rof egaugnal lufesu dna gnitseretni na si nohtyP'\n",
    "\n",
    "(Reversed)\n",
    "\n",
    "(f) 'nohtyP'\n",
    "\n",
    "(g) 'Pto sa neetn n sfllnug o ueia optn!'"
   ]
  },
  {
   "cell_type": "code",
   "execution_count": 5,
   "id": "68967784",
   "metadata": {},
   "outputs": [],
   "source": [
    "ex = 'Python is an interesting and useful language for numerical computing!'"
   ]
  },
  {
   "cell_type": "code",
   "execution_count": 6,
   "id": "2e37e70e",
   "metadata": {},
   "outputs": [
    {
     "data": {
      "text/plain": [
       "'Python'"
      ]
     },
     "execution_count": 6,
     "metadata": {},
     "output_type": "execute_result"
    }
   ],
   "source": [
    "ex[:6]"
   ]
  },
  {
   "cell_type": "code",
   "execution_count": 7,
   "id": "1fb55038",
   "metadata": {},
   "outputs": [
    {
     "data": {
      "text/plain": [
       "'!'"
      ]
     },
     "execution_count": 7,
     "metadata": {},
     "output_type": "execute_result"
    }
   ],
   "source": [
    "ex[-1]"
   ]
  },
  {
   "cell_type": "code",
   "execution_count": 8,
   "id": "1332723f",
   "metadata": {},
   "outputs": [
    {
     "data": {
      "text/plain": [
       "'computing'"
      ]
     },
     "execution_count": 8,
     "metadata": {},
     "output_type": "execute_result"
    }
   ],
   "source": [
    "ex[-10:-1]"
   ]
  },
  {
   "cell_type": "code",
   "execution_count": 9,
   "id": "13957bd8",
   "metadata": {},
   "outputs": [
    {
     "data": {
      "text/plain": [
       "'in'"
      ]
     },
     "execution_count": 9,
     "metadata": {},
     "output_type": "execute_result"
    }
   ],
   "source": [
    "ex[13:15]"
   ]
  },
  {
   "cell_type": "code",
   "execution_count": 10,
   "id": "36298fc6",
   "metadata": {},
   "outputs": [
    {
     "data": {
      "text/plain": [
       "'!gnitupmoc laciremun rof egaugnal lufesu dna gnitseretni na si nohtyP'"
      ]
     },
     "execution_count": 10,
     "metadata": {},
     "output_type": "execute_result"
    }
   ],
   "source": [
    "ex[::-1]"
   ]
  },
  {
   "cell_type": "code",
   "execution_count": 11,
   "id": "9496cab1",
   "metadata": {},
   "outputs": [
    {
     "data": {
      "text/plain": [
       "'nohtyP'"
      ]
     },
     "execution_count": 11,
     "metadata": {},
     "output_type": "execute_result"
    }
   ],
   "source": [
    "ex[5::-1]"
   ]
  },
  {
   "cell_type": "code",
   "execution_count": 12,
   "id": "983a214e",
   "metadata": {},
   "outputs": [
    {
     "data": {
      "text/plain": [
       "'Pto sa neetn n sfllnug o ueia optn!'"
      ]
     },
     "execution_count": 12,
     "metadata": {},
     "output_type": "execute_result"
    }
   ],
   "source": [
    "ex[::2]"
   ]
  },
  {
   "cell_type": "code",
   "execution_count": null,
   "id": "69d69144",
   "metadata": {},
   "outputs": [],
   "source": []
  },
  {
   "cell_type": "markdown",
   "id": "f19b2747",
   "metadata": {},
   "source": [
    "Q6\n",
    "\n",
    "Construct a nested list to hold the matrix\n",
    "\n",
    "[ 1, 0.5 \n",
    "\n",
    "\n",
    "\n",
    " 0.5, 1 ]"
   ]
  },
  {
   "cell_type": "code",
   "execution_count": 13,
   "id": "5fafcdd7",
   "metadata": {},
   "outputs": [
    {
     "data": {
      "text/plain": [
       "[[1, 0.5], [0.5, 1]]"
      ]
     },
     "execution_count": 13,
     "metadata": {},
     "output_type": "execute_result"
    }
   ],
   "source": [
    "matrix = [[1,0.5],[0.5,1]]\n",
    "matrix"
   ]
  },
  {
   "cell_type": "code",
   "execution_count": null,
   "id": "37cb804e",
   "metadata": {},
   "outputs": [],
   "source": []
  },
  {
   "cell_type": "markdown",
   "id": "cb3eeac9",
   "metadata": {},
   "source": [
    "Q7\n",
    "\n",
    "Assign the matrix you just created first to x, and then assign y=x. \n",
    "\n",
    "Change y[0][0] to 1.61.\n",
    "\n",
    "What happens to x?"
   ]
  },
  {
   "cell_type": "code",
   "execution_count": 14,
   "id": "6b73a6a7",
   "metadata": {},
   "outputs": [],
   "source": [
    "x = matrix"
   ]
  },
  {
   "cell_type": "code",
   "execution_count": 15,
   "id": "d0e87ec9",
   "metadata": {},
   "outputs": [],
   "source": [
    "y = x"
   ]
  },
  {
   "cell_type": "code",
   "execution_count": 16,
   "id": "b83d8884",
   "metadata": {},
   "outputs": [],
   "source": [
    "y[0][0] = 1.61"
   ]
  },
  {
   "cell_type": "code",
   "execution_count": 17,
   "id": "7f828220",
   "metadata": {},
   "outputs": [
    {
     "data": {
      "text/plain": [
       "[[1.61, 0.5], [0.5, 1]]"
      ]
     },
     "execution_count": 17,
     "metadata": {},
     "output_type": "execute_result"
    }
   ],
   "source": [
    "x"
   ]
  },
  {
   "cell_type": "markdown",
   "id": "51c3d31b",
   "metadata": {},
   "source": [
    "Ans: x[0][0] also changed from 1 to 1.61, just as the case with y"
   ]
  },
  {
   "cell_type": "code",
   "execution_count": null,
   "id": "b28bf0f9",
   "metadata": {},
   "outputs": [],
   "source": []
  },
  {
   "cell_type": "markdown",
   "id": "9131dcb9",
   "metadata": {},
   "source": [
    "Q8\n",
    "\n",
    "Next assign z=x[:] using a simple slice. \n",
    "\n",
    "Repeat the same exercise using y[0][0] = 1j. \n",
    "\n",
    "What happens to x and z?"
   ]
  },
  {
   "cell_type": "code",
   "execution_count": 18,
   "id": "9b6609f1",
   "metadata": {},
   "outputs": [],
   "source": [
    "z = x[:]"
   ]
  },
  {
   "cell_type": "code",
   "execution_count": 19,
   "id": "ce2c323a",
   "metadata": {},
   "outputs": [],
   "source": [
    "y[0][0] = 1j"
   ]
  },
  {
   "cell_type": "code",
   "execution_count": 20,
   "id": "cbfca658",
   "metadata": {},
   "outputs": [
    {
     "data": {
      "text/plain": [
       "[[1j, 0.5], [0.5, 1]]"
      ]
     },
     "execution_count": 20,
     "metadata": {},
     "output_type": "execute_result"
    }
   ],
   "source": [
    "x"
   ]
  },
  {
   "cell_type": "code",
   "execution_count": 21,
   "id": "b5651408",
   "metadata": {},
   "outputs": [
    {
     "data": {
      "text/plain": [
       "[[1j, 0.5], [0.5, 1]]"
      ]
     },
     "execution_count": 21,
     "metadata": {},
     "output_type": "execute_result"
    }
   ],
   "source": [
    "z"
   ]
  },
  {
   "cell_type": "markdown",
   "id": "881d2227",
   "metadata": {},
   "source": [
    "Ans: Both x[0][0] and z[0][0] changed from 1.61 to 1j"
   ]
  },
  {
   "cell_type": "code",
   "execution_count": null,
   "id": "07855969",
   "metadata": {},
   "outputs": [],
   "source": []
  },
  {
   "cell_type": "markdown",
   "id": "e2d910b1",
   "metadata": {},
   "source": [
    "Q9\n",
    "\n",
    "How could you create w from x so that w can be changed without affecting x?\n",
    "\n",
    "(This is not covered in class 1 but is covered in the context of NumPy in class 2)."
   ]
  },
  {
   "cell_type": "code",
   "execution_count": 22,
   "id": "cb2c3e65",
   "metadata": {},
   "outputs": [
    {
     "data": {
      "text/plain": [
       "[[1j, 0.5], [0.5, 1]]"
      ]
     },
     "execution_count": 22,
     "metadata": {},
     "output_type": "execute_result"
    }
   ],
   "source": [
    "import copy\n",
    "w = copy.deepcopy(x)\n",
    "w"
   ]
  },
  {
   "cell_type": "code",
   "execution_count": 23,
   "id": "795d527e",
   "metadata": {},
   "outputs": [
    {
     "data": {
      "text/plain": [
       "[[1j, 0.5], [0.5, 1]]"
      ]
     },
     "execution_count": 23,
     "metadata": {},
     "output_type": "execute_result"
    }
   ],
   "source": [
    "y[0][0] = 1+1j\n",
    "w"
   ]
  },
  {
   "cell_type": "code",
   "execution_count": null,
   "id": "81d8b030",
   "metadata": {},
   "outputs": [],
   "source": []
  },
  {
   "cell_type": "markdown",
   "id": "a3e715ba",
   "metadata": {},
   "source": [
    "Q10\n",
    "\n",
    "Initialize a list containing 4, 3.1415, 1.0, 2+4j, ‘Hello’,‘World’. How could you:\n",
    "\n",
    "(a) Delete 1.0 if you knew its position? What if you didn’t know its position?\n",
    "\n",
    "(b) How can the list [1.0, 2+4j, ‘Hello’] be added to the existing list?\n",
    "\n",
    "(c) How can the list be reversed?\n",
    "\n",
    "(d) In the extended list, how can you count the occurrence of ‘Hello’?"
   ]
  },
  {
   "cell_type": "code",
   "execution_count": 24,
   "id": "90d338b1",
   "metadata": {},
   "outputs": [
    {
     "data": {
      "text/plain": [
       "[4, 3.1415, (2+4j), 'Hello', 'World']"
      ]
     },
     "execution_count": 24,
     "metadata": {},
     "output_type": "execute_result"
    }
   ],
   "source": [
    "initialized_list = [4,3.1415,1.0,2+4j,'Hello','World']\n",
    "del initialized_list[2];\n",
    "initialized_list"
   ]
  },
  {
   "cell_type": "code",
   "execution_count": 25,
   "id": "4be50bbc",
   "metadata": {},
   "outputs": [
    {
     "data": {
      "text/plain": [
       "[4, 3.1415, (2+4j), 'Hello', 'World']"
      ]
     },
     "execution_count": 25,
     "metadata": {},
     "output_type": "execute_result"
    }
   ],
   "source": [
    "initialized_list = [4,3.1415,1.0,2+4j,'Hello','World']\n",
    "initialized_list.remove(1.0)\n",
    "initialized_list"
   ]
  },
  {
   "cell_type": "code",
   "execution_count": 26,
   "id": "05ac1985",
   "metadata": {},
   "outputs": [
    {
     "data": {
      "text/plain": [
       "[4, 3.1415, 1.0, (2+4j), 'Hello', 'World', 1.0, (2+4j), 'Hello']"
      ]
     },
     "execution_count": 26,
     "metadata": {},
     "output_type": "execute_result"
    }
   ],
   "source": [
    "initialized_list = [4,3.1415,1.0,2+4j,'Hello','World']\n",
    "initialized_list.extend([1.0, 2+4j, 'Hello'])\n",
    "initialized_list"
   ]
  },
  {
   "cell_type": "code",
   "execution_count": 27,
   "id": "8eb237b1",
   "metadata": {},
   "outputs": [
    {
     "data": {
      "text/plain": [
       "['World', 'Hello', (2+4j), 1.0, 3.1415, 4]"
      ]
     },
     "execution_count": 27,
     "metadata": {},
     "output_type": "execute_result"
    }
   ],
   "source": [
    "initialized_list = [4,3.1415,1.0,2+4j,'Hello','World']\n",
    "initialized_list.reverse()\n",
    "initialized_list"
   ]
  },
  {
   "cell_type": "code",
   "execution_count": 28,
   "id": "98fb2a93",
   "metadata": {},
   "outputs": [
    {
     "data": {
      "text/plain": [
       "2"
      ]
     },
     "execution_count": 28,
     "metadata": {},
     "output_type": "execute_result"
    }
   ],
   "source": [
    "initialized_list = [4,3.1415,1.0,2+4j,'Hello','World']\n",
    "initialized_list.extend([1.0, 2+4j, 'Hello'])\n",
    "initialized_list.count('Hello')"
   ]
  },
  {
   "cell_type": "code",
   "execution_count": null,
   "id": "bdae46cb",
   "metadata": {},
   "outputs": [],
   "source": []
  },
  {
   "cell_type": "code",
   "execution_count": null,
   "id": "f88f8227",
   "metadata": {},
   "outputs": [],
   "source": []
  }
 ],
 "metadata": {
  "kernelspec": {
   "display_name": "Python 3",
   "language": "python",
   "name": "python3"
  },
  "language_info": {
   "codemirror_mode": {
    "name": "ipython",
    "version": 3
   },
   "file_extension": ".py",
   "mimetype": "text/x-python",
   "name": "python",
   "nbconvert_exporter": "python",
   "pygments_lexer": "ipython3",
   "version": "3.8.8"
  }
 },
 "nbformat": 4,
 "nbformat_minor": 5
}
