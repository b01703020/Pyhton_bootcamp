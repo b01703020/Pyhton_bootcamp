{
 "cells": [
  {
   "cell_type": "markdown",
   "id": "61fccc3b",
   "metadata": {},
   "source": [
    "# Introduction to Python"
   ]
  },
  {
   "cell_type": "markdown",
   "id": "31f90394",
   "metadata": {},
   "source": [
    "## Python Scientific Stack Components"
   ]
  },
  {
   "cell_type": "markdown",
   "id": "d9dc9180",
   "metadata": {},
   "source": [
    "NumPy - NumPy provides a set of array and matrix data types which are essential for statistics, econometrics and data analysis."
   ]
  },
  {
   "cell_type": "markdown",
   "id": "81c8df9f",
   "metadata": {},
   "source": [
    "SciPy - SciPy contains a large number of routines needed for analysis of data. The most important include a wide range of random number generators, linear algebra routines, and optimizers. SciPy depends on NumPy"
   ]
  },
  {
   "cell_type": "markdown",
   "id": "1695d6b1",
   "metadata": {},
   "source": [
    "Jupyter and IPython - IPython provides an interactive Python environment which enhances productivity when developing code or performing interactive data analysis. Jupyter provides a generic set of infrastructure that enables IPython to be run in a variety of settings including an improved console (QtConsole) or in an interactive web browser based notebook."
   ]
  },
  {
   "cell_type": "markdown",
   "id": "b6796819",
   "metadata": {},
   "source": [
    "matplotlib and seaborn - matplotlib provides a plotting environment for 2D plots, with limited support for 3D plotting. seaborn is a Python package that improves the default appearance of matplotlib plots without any additional code."
   ]
  },
  {
   "cell_type": "markdown",
   "id": "0925a6a9",
   "metadata": {},
   "source": [
    "pandas - pandas provides high-performance data structures."
   ]
  },
  {
   "cell_type": "markdown",
   "id": "4ecc2a80",
   "metadata": {},
   "source": [
    "statsmodels - statsmodels is pandas-aware and provides models used in the statistical analysis of data including linear regression, Generalized Linear Models (GLMs), and time-series models (e.g., ARIMA)."
   ]
  },
  {
   "cell_type": "markdown",
   "id": "7d8b857f",
   "metadata": {},
   "source": [
    "Scikit-learn - Scikit-learn (also known as sklearn) is a machine learning library. It features various classification, regression and clustering algorithms including support vector machines, random forests, gradient boosting and k-means, and is designed to interoperate with NumPy and SciPy."
   ]
  },
  {
   "cell_type": "code",
   "execution_count": null,
   "id": "f2684346",
   "metadata": {},
   "outputs": [],
   "source": []
  },
  {
   "cell_type": "markdown",
   "id": "9ec635e1",
   "metadata": {},
   "source": [
    "## Using IPython"
   ]
  },
  {
   "cell_type": "markdown",
   "id": "6ff50acd",
   "metadata": {},
   "source": [
    "help() function can access this information and prints the results"
   ]
  },
  {
   "cell_type": "markdown",
   "id": "80695fbc",
   "metadata": {},
   "source": [
    "the ? character to explore documentation"
   ]
  },
  {
   "cell_type": "markdown",
   "id": "4076648c",
   "metadata": {},
   "source": [
    "the ?? characters to explore source code"
   ]
  },
  {
   "cell_type": "markdown",
   "id": "408e0a89",
   "metadata": {},
   "source": [
    "the Tab key for auto-completion"
   ]
  },
  {
   "cell_type": "code",
   "execution_count": 1,
   "id": "bba5dbcb",
   "metadata": {},
   "outputs": [
    {
     "name": "stdout",
     "output_type": "stream",
     "text": [
      "Help on built-in function len in module builtins:\n",
      "\n",
      "len(obj, /)\n",
      "    Return the number of items in a container.\n",
      "\n"
     ]
    }
   ],
   "source": [
    "help(len)"
   ]
  },
  {
   "cell_type": "code",
   "execution_count": 2,
   "id": "41b738af",
   "metadata": {},
   "outputs": [],
   "source": [
    "len?"
   ]
  },
  {
   "cell_type": "markdown",
   "id": "573dad44",
   "metadata": {},
   "source": [
    "output:\n",
    "\n",
    "Signature: len(obj, /)\n",
    "\n",
    "Docstring: Return the number of items in a container.\n",
    "\n",
    "Type:      builtin_function_or_method"
   ]
  },
  {
   "cell_type": "code",
   "execution_count": 3,
   "id": "78303cc0",
   "metadata": {},
   "outputs": [],
   "source": [
    "L = [1,2,3]\n",
    "L.insert?"
   ]
  },
  {
   "cell_type": "markdown",
   "id": "433c8093",
   "metadata": {},
   "source": [
    "Output:\n",
    "\n",
    "Signature: L.insert(index, object, /)\n",
    "\n",
    "Docstring: Insert object before index.\n",
    "\n",
    "Type:      builtin_function_or_method"
   ]
  },
  {
   "cell_type": "code",
   "execution_count": 4,
   "id": "4b553dcb",
   "metadata": {},
   "outputs": [],
   "source": [
    "L?"
   ]
  },
  {
   "cell_type": "markdown",
   "id": "16ea2065",
   "metadata": {},
   "source": [
    "Output:\n",
    "\n",
    "Type:        list\n",
    "\n",
    "String form: [1, 2, 3]\n",
    "\n",
    "Length:      3\n",
    "\n",
    "Docstring:  Built-in mutable sequence.\n",
    "\n",
    "If no argument is given, the constructor creates a new empty list.\n",
    "\n",
    "The argument must be an iterable if specified."
   ]
  },
  {
   "cell_type": "code",
   "execution_count": 5,
   "id": "6682b1b0",
   "metadata": {},
   "outputs": [],
   "source": [
    "def square(a):\n",
    "    \"\"\"Return the square of a.\"\"\"\n",
    "    return a ** 2\n",
    "square?"
   ]
  },
  {
   "cell_type": "markdown",
   "id": "f3955610",
   "metadata": {},
   "source": [
    "Signature: square(a)\n",
    "\n",
    "Docstring: Return the square of a.\n",
    "\n",
    "File:      ~/Desktop/python/<ipython-input-6-a4f3dbd18f39>\n",
    "    \n",
    "Type:      function"
   ]
  },
  {
   "cell_type": "code",
   "execution_count": 6,
   "id": "a41f99ab",
   "metadata": {},
   "outputs": [],
   "source": [
    "square??"
   ]
  },
  {
   "cell_type": "markdown",
   "id": "6812d3eb",
   "metadata": {},
   "source": [
    "Output:\n",
    "\n",
    "Signature: square(a)\n",
    "\n",
    "Source:   \n",
    "\n",
    "def square(a):\n",
    "    \n",
    "    \"\"\"Return the square of a.\"\"\"\n",
    "    \n",
    "    return a ** 2\n",
    "\n",
    "File:      ~/Desktop/python/<ipython-input-6-a4f3dbd18f39>\n",
    "\n",
    "Type:      function"
   ]
  },
  {
   "cell_type": "markdown",
   "id": "60bca3d5",
   "metadata": {},
   "source": []
  },
  {
   "cell_type": "markdown",
   "id": "ddfdbf8f",
   "metadata": {},
   "source": [
    "L.<TAB>\n",
    "\n",
    "Output:\n",
    "    \n",
    "L.append   L.copy     L.extend   L.insert   L.remove\n",
    "    \n",
    "L.sort     L.clear    L.count    L.index    L.pop\n",
    "    \n",
    "L.reverse"
   ]
  },
  {
   "cell_type": "code",
   "execution_count": null,
   "id": "772561c7",
   "metadata": {},
   "outputs": [],
   "source": []
  },
  {
   "cell_type": "markdown",
   "id": "aababc17",
   "metadata": {},
   "source": [
    "## Variables"
   ]
  },
  {
   "cell_type": "markdown",
   "id": "1b0d0ce8",
   "metadata": {},
   "source": [
    "Multiple variables can be assigned on the same line using commas"
   ]
  },
  {
   "cell_type": "code",
   "execution_count": 7,
   "id": "f5cb65b2",
   "metadata": {},
   "outputs": [],
   "source": [
    "x, y, z = 1, 3.1415, 'a'"
   ]
  },
  {
   "cell_type": "code",
   "execution_count": null,
   "id": "8cfcc448",
   "metadata": {},
   "outputs": [],
   "source": []
  },
  {
   "cell_type": "markdown",
   "id": "3b21f314",
   "metadata": {},
   "source": [
    "## Numeric Data Types"
   ]
  },
  {
   "cell_type": "markdown",
   "id": "32718a13",
   "metadata": {},
   "source": [
    "The integer data type stores numbers using an exact representation\n",
    "\n",
    "Python integers support have unlimited range since the amount of bits used to store an integer is dynamic"
   ]
  },
  {
   "cell_type": "code",
   "execution_count": 8,
   "id": "ed73c9de",
   "metadata": {},
   "outputs": [
    {
     "data": {
      "text/plain": [
       "int"
      ]
     },
     "execution_count": 8,
     "metadata": {},
     "output_type": "execute_result"
    }
   ],
   "source": [
    "x=1 \n",
    "type(x)"
   ]
  },
  {
   "cell_type": "markdown",
   "id": "4323bf07",
   "metadata": {},
   "source": [
    "The int() function can also be used to convert a float to an integer by rounding towards 0"
   ]
  },
  {
   "cell_type": "code",
   "execution_count": 9,
   "id": "610db433",
   "metadata": {},
   "outputs": [
    {
     "data": {
      "text/plain": [
       "2"
      ]
     },
     "execution_count": 9,
     "metadata": {},
     "output_type": "execute_result"
    }
   ],
   "source": [
    "x = 2.7\n",
    "int(x)"
   ]
  },
  {
   "cell_type": "markdown",
   "id": "9ace583f",
   "metadata": {},
   "source": [
    "Floats use an approximation to represent numbers"
   ]
  },
  {
   "cell_type": "code",
   "execution_count": 10,
   "id": "fef749c7",
   "metadata": {},
   "outputs": [
    {
     "data": {
      "text/plain": [
       "float"
      ]
     },
     "execution_count": 10,
     "metadata": {},
     "output_type": "execute_result"
    }
   ],
   "source": [
    "x = 1.0\n",
    "type(x)"
   ]
  },
  {
   "cell_type": "code",
   "execution_count": 11,
   "id": "b2900d56",
   "metadata": {},
   "outputs": [
    {
     "data": {
      "text/plain": [
       "float"
      ]
     },
     "execution_count": 11,
     "metadata": {},
     "output_type": "execute_result"
    }
   ],
   "source": [
    "x = float(1)\n",
    "type(x)"
   ]
  },
  {
   "cell_type": "code",
   "execution_count": 12,
   "id": "dc835f71",
   "metadata": {},
   "outputs": [
    {
     "data": {
      "text/plain": [
       "complex"
      ]
     },
     "execution_count": 12,
     "metadata": {},
     "output_type": "execute_result"
    }
   ],
   "source": [
    "x = 2 + 3j\n",
    "type(x)"
   ]
  },
  {
   "cell_type": "code",
   "execution_count": 13,
   "id": "1be76413",
   "metadata": {},
   "outputs": [
    {
     "data": {
      "text/plain": [
       "complex"
      ]
     },
     "execution_count": 13,
     "metadata": {},
     "output_type": "execute_result"
    }
   ],
   "source": [
    "x = complex(2,3)\n",
    "type(x)"
   ]
  },
  {
   "cell_type": "code",
   "execution_count": null,
   "id": "64a951e1",
   "metadata": {},
   "outputs": [],
   "source": []
  },
  {
   "cell_type": "markdown",
   "id": "191dea8b",
   "metadata": {},
   "source": [
    "## Other core data types"
   ]
  },
  {
   "cell_type": "markdown",
   "id": "5ba9bddf",
   "metadata": {},
   "source": [
    "The Boolean data type is used to represent true and false, using the reserved keywords True and False"
   ]
  },
  {
   "cell_type": "code",
   "execution_count": 14,
   "id": "2d05bcff",
   "metadata": {},
   "outputs": [
    {
     "data": {
      "text/plain": [
       "bool"
      ]
     },
     "execution_count": 14,
     "metadata": {},
     "output_type": "execute_result"
    }
   ],
   "source": [
    "x = True\n",
    "type(x)"
   ]
  },
  {
   "cell_type": "code",
   "execution_count": 15,
   "id": "3ecc5fa9",
   "metadata": {},
   "outputs": [
    {
     "data": {
      "text/plain": [
       "True"
      ]
     },
     "execution_count": 15,
     "metadata": {},
     "output_type": "execute_result"
    }
   ],
   "source": [
    "x = bool(1)\n",
    "x"
   ]
  },
  {
   "cell_type": "code",
   "execution_count": 16,
   "id": "c1af3b27",
   "metadata": {},
   "outputs": [
    {
     "data": {
      "text/plain": [
       "False"
      ]
     },
     "execution_count": 16,
     "metadata": {},
     "output_type": "execute_result"
    }
   ],
   "source": [
    "x = bool(0)\n",
    "x"
   ]
  },
  {
   "cell_type": "code",
   "execution_count": null,
   "id": "85246fe3",
   "metadata": {},
   "outputs": [],
   "source": []
  },
  {
   "cell_type": "markdown",
   "id": "23109ba4",
   "metadata": {},
   "source": [
    "Strings are delimited using single quotes (‘ ’) or double quotes (“ ”) but not using combination of the two delimiters"
   ]
  },
  {
   "cell_type": "code",
   "execution_count": 17,
   "id": "78f866b8",
   "metadata": {},
   "outputs": [
    {
     "data": {
      "text/plain": [
       "str"
      ]
     },
     "execution_count": 17,
     "metadata": {},
     "output_type": "execute_result"
    }
   ],
   "source": [
    "x = 'abc'\n",
    "type(x)"
   ]
  },
  {
   "cell_type": "code",
   "execution_count": 18,
   "id": "7f053450",
   "metadata": {},
   "outputs": [
    {
     "name": "stdout",
     "output_type": "stream",
     "text": [
      "\"A quotation!\"\n"
     ]
    }
   ],
   "source": [
    "y = '\"A quotation!\"'\n",
    "print(y)"
   ]
  },
  {
   "cell_type": "code",
   "execution_count": null,
   "id": "92566faa",
   "metadata": {},
   "outputs": [],
   "source": []
  },
  {
   "cell_type": "markdown",
   "id": "3628ea02",
   "metadata": {},
   "source": [
    "Lists are a built-in container data type which hold other data"
   ]
  },
  {
   "cell_type": "markdown",
   "id": "de458a42",
   "metadata": {},
   "source": [
    "Basic lists are constructed using square braces, [ ], and values are separated using commas."
   ]
  },
  {
   "cell_type": "code",
   "execution_count": 19,
   "id": "9fdd8da7",
   "metadata": {},
   "outputs": [
    {
     "data": {
      "text/plain": [
       "list"
      ]
     },
     "execution_count": 19,
     "metadata": {},
     "output_type": "execute_result"
    }
   ],
   "source": [
    "x = []\n",
    "type(x)"
   ]
  },
  {
   "cell_type": "code",
   "execution_count": 20,
   "id": "84f14eb2",
   "metadata": {},
   "outputs": [
    {
     "data": {
      "text/plain": [
       "[1, 2, 3, 4]"
      ]
     },
     "execution_count": 20,
     "metadata": {},
     "output_type": "execute_result"
    }
   ],
   "source": [
    "x=[1,2,3,4]\n",
    "x"
   ]
  },
  {
   "cell_type": "code",
   "execution_count": 21,
   "id": "ac446987",
   "metadata": {},
   "outputs": [
    {
     "data": {
      "text/plain": [
       "[[1, 2, 3, 4], [5, 6, 7]]"
      ]
     },
     "execution_count": 21,
     "metadata": {},
     "output_type": "execute_result"
    }
   ],
   "source": [
    "x = [[1,2,3,4] , [5,6,7]]\n",
    "x"
   ]
  },
  {
   "cell_type": "code",
   "execution_count": 22,
   "id": "292d4dbe",
   "metadata": {},
   "outputs": [
    {
     "data": {
      "text/plain": [
       "[1, 1.0, (1+0j), 'one', None, True]"
      ]
     },
     "execution_count": 22,
     "metadata": {},
     "output_type": "execute_result"
    }
   ],
   "source": [
    "x = [1,1.0,1+0j,'one',None,True]\n",
    "x"
   ]
  },
  {
   "cell_type": "markdown",
   "id": "1486c4ec",
   "metadata": {},
   "source": [
    "Slicing Lists"
   ]
  },
  {
   "cell_type": "markdown",
   "id": "220d859f",
   "metadata": {},
   "source": [
    "Python uses 0-based indices, and so the n elements of x can be thought of as x0,x1,...,xn−1"
   ]
  },
  {
   "cell_type": "markdown",
   "id": "a62840c7",
   "metadata": {},
   "source": [
    "x[i:j:m] where i is the index to start, j is the index to end (exclusive) and m is the stride length."
   ]
  },
  {
   "cell_type": "code",
   "execution_count": 23,
   "id": "61d82950",
   "metadata": {},
   "outputs": [
    {
     "data": {
      "text/plain": [
       "1"
      ]
     },
     "execution_count": 23,
     "metadata": {},
     "output_type": "execute_result"
    }
   ],
   "source": [
    "x = [0,1,2,3,4,5,6,7,8,9]\n",
    "x[1]"
   ]
  },
  {
   "cell_type": "code",
   "execution_count": 24,
   "id": "0a0b9bba",
   "metadata": {},
   "outputs": [
    {
     "data": {
      "text/plain": [
       "[1, 2, 3]"
      ]
     },
     "execution_count": 24,
     "metadata": {},
     "output_type": "execute_result"
    }
   ],
   "source": [
    "x[1:4]"
   ]
  },
  {
   "cell_type": "code",
   "execution_count": 25,
   "id": "6c72972b",
   "metadata": {},
   "outputs": [
    {
     "data": {
      "text/plain": [
       "9"
      ]
     },
     "execution_count": 25,
     "metadata": {},
     "output_type": "execute_result"
    }
   ],
   "source": [
    "x[-1]"
   ]
  },
  {
   "cell_type": "code",
   "execution_count": 26,
   "id": "dda6d636",
   "metadata": {},
   "outputs": [
    {
     "data": {
      "text/plain": [
       "[0, 1, 2, 3, 4, 5, 6, 7, 8]"
      ]
     },
     "execution_count": 26,
     "metadata": {},
     "output_type": "execute_result"
    }
   ],
   "source": [
    "x[-10:-1]"
   ]
  },
  {
   "cell_type": "code",
   "execution_count": 27,
   "id": "5b2c22d9",
   "metadata": {},
   "outputs": [
    {
     "data": {
      "text/plain": [
       "[2, 5, 8]"
      ]
     },
     "execution_count": 27,
     "metadata": {},
     "output_type": "execute_result"
    }
   ],
   "source": [
    "x[2:9:3]"
   ]
  },
  {
   "cell_type": "code",
   "execution_count": 28,
   "id": "da905f1b",
   "metadata": {},
   "outputs": [
    {
     "data": {
      "text/plain": [
       "[9, 8, 7, 6, 5, 4, 3, 2, 1, 0]"
      ]
     },
     "execution_count": 28,
     "metadata": {},
     "output_type": "execute_result"
    }
   ],
   "source": [
    "x[::-1]"
   ]
  },
  {
   "cell_type": "code",
   "execution_count": 29,
   "id": "24036a19",
   "metadata": {},
   "outputs": [
    {
     "data": {
      "text/plain": [
       "[9, 7, 5, 3, 1]"
      ]
     },
     "execution_count": 29,
     "metadata": {},
     "output_type": "execute_result"
    }
   ],
   "source": [
    "x[::-2]"
   ]
  },
  {
   "cell_type": "markdown",
   "id": "48f23424",
   "metadata": {},
   "source": [
    "List can be multidimensional, and slicing can be done directly in higher dimensions."
   ]
  },
  {
   "cell_type": "code",
   "execution_count": 30,
   "id": "0094ad05",
   "metadata": {},
   "outputs": [
    {
     "data": {
      "text/plain": [
       "[5, 6, 7, 8]"
      ]
     },
     "execution_count": 30,
     "metadata": {},
     "output_type": "execute_result"
    }
   ],
   "source": [
    "x = [[1,2,3,4], [5,6,7,8]]\n",
    "x[1]"
   ]
  },
  {
   "cell_type": "code",
   "execution_count": 31,
   "id": "416b7e7e",
   "metadata": {},
   "outputs": [
    {
     "data": {
      "text/plain": [
       "6"
      ]
     },
     "execution_count": 31,
     "metadata": {},
     "output_type": "execute_result"
    }
   ],
   "source": [
    "x[1][1]"
   ]
  },
  {
   "cell_type": "code",
   "execution_count": 32,
   "id": "666e75e0",
   "metadata": {},
   "outputs": [
    {
     "data": {
      "text/plain": [
       "[2, 3, 4]"
      ]
     },
     "execution_count": 32,
     "metadata": {},
     "output_type": "execute_result"
    }
   ],
   "source": [
    "x[0][1:4]"
   ]
  },
  {
   "cell_type": "markdown",
   "id": "a830a1b2",
   "metadata": {},
   "source": [
    "List Function"
   ]
  },
  {
   "cell_type": "code",
   "execution_count": 33,
   "id": "007c890e",
   "metadata": {},
   "outputs": [],
   "source": [
    "x = [0,1,2,3,4,5,6,7,8,9]"
   ]
  },
  {
   "cell_type": "code",
   "execution_count": 34,
   "id": "69e9952d",
   "metadata": {},
   "outputs": [
    {
     "data": {
      "text/plain": [
       "[0, 1, 2, 3, 4, 5, 6, 7, 8, 9, 0]"
      ]
     },
     "execution_count": 34,
     "metadata": {},
     "output_type": "execute_result"
    }
   ],
   "source": [
    "x.append(0)\n",
    "x"
   ]
  },
  {
   "cell_type": "code",
   "execution_count": 35,
   "id": "d39677cb",
   "metadata": {},
   "outputs": [
    {
     "data": {
      "text/plain": [
       "11"
      ]
     },
     "execution_count": 35,
     "metadata": {},
     "output_type": "execute_result"
    }
   ],
   "source": [
    "len(x)"
   ]
  },
  {
   "cell_type": "code",
   "execution_count": 36,
   "id": "a0f0b946",
   "metadata": {},
   "outputs": [
    {
     "data": {
      "text/plain": [
       "[0, 1, 2, 3, 4, 5, 6, 7, 8, 9, 0, 11, 12, 13]"
      ]
     },
     "execution_count": 36,
     "metadata": {},
     "output_type": "execute_result"
    }
   ],
   "source": [
    "x.extend([11,12,13])\n",
    "x"
   ]
  },
  {
   "cell_type": "code",
   "execution_count": 37,
   "id": "eeb504be",
   "metadata": {},
   "outputs": [
    {
     "data": {
      "text/plain": [
       "1"
      ]
     },
     "execution_count": 37,
     "metadata": {},
     "output_type": "execute_result"
    }
   ],
   "source": [
    "x.pop(1)"
   ]
  },
  {
   "cell_type": "code",
   "execution_count": 38,
   "id": "c783d84e",
   "metadata": {},
   "outputs": [
    {
     "data": {
      "text/plain": [
       "[0, 2, 3, 4, 5, 6, 7, 8, 9, 0, 11, 12, 13]"
      ]
     },
     "execution_count": 38,
     "metadata": {},
     "output_type": "execute_result"
    }
   ],
   "source": [
    "x"
   ]
  },
  {
   "cell_type": "code",
   "execution_count": 39,
   "id": "c1eadfb1",
   "metadata": {},
   "outputs": [
    {
     "data": {
      "text/plain": [
       "[2, 3, 4, 5, 6, 7, 8, 9, 0, 11, 12, 13]"
      ]
     },
     "execution_count": 39,
     "metadata": {},
     "output_type": "execute_result"
    }
   ],
   "source": [
    "x.remove(0)\n",
    "x"
   ]
  },
  {
   "cell_type": "code",
   "execution_count": 40,
   "id": "c8460088",
   "metadata": {},
   "outputs": [
    {
     "data": {
      "text/plain": [
       "[3, 4, 5, 6, 7, 8, 9, 0, 11, 12, 13]"
      ]
     },
     "execution_count": 40,
     "metadata": {},
     "output_type": "execute_result"
    }
   ],
   "source": [
    "del x[0]\n",
    "x"
   ]
  },
  {
   "cell_type": "code",
   "execution_count": 41,
   "id": "f3151b39",
   "metadata": {},
   "outputs": [
    {
     "data": {
      "text/plain": [
       "[6, 7, 8, 9, 0, 11, 12, 13]"
      ]
     },
     "execution_count": 41,
     "metadata": {},
     "output_type": "execute_result"
    }
   ],
   "source": [
    "del x[:3]\n",
    "x"
   ]
  },
  {
   "cell_type": "code",
   "execution_count": null,
   "id": "a92406ad",
   "metadata": {},
   "outputs": [],
   "source": []
  },
  {
   "cell_type": "markdown",
   "id": "a4603fe6",
   "metadata": {},
   "source": [
    "A tuple is virtually identical to a list with one important difference – tuples are immutable.\n",
    "\n",
    "Tuples are constructed using parentheses ( ) "
   ]
  },
  {
   "cell_type": "code",
   "execution_count": 42,
   "id": "1f502732",
   "metadata": {},
   "outputs": [
    {
     "data": {
      "text/plain": [
       "tuple"
      ]
     },
     "execution_count": 42,
     "metadata": {},
     "output_type": "execute_result"
    }
   ],
   "source": [
    "x =(0,1,2,3,4,5,6,7,8,9)\n",
    "type(x)"
   ]
  },
  {
   "cell_type": "code",
   "execution_count": 43,
   "id": "30118c43",
   "metadata": {},
   "outputs": [
    {
     "data": {
      "text/plain": [
       "tuple"
      ]
     },
     "execution_count": 43,
     "metadata": {},
     "output_type": "execute_result"
    }
   ],
   "source": [
    "y = tuple([0,1,2,3,4,5])\n",
    "type(y)"
   ]
  },
  {
   "cell_type": "code",
   "execution_count": 44,
   "id": "ee409e9a",
   "metadata": {},
   "outputs": [
    {
     "data": {
      "text/plain": [
       "(0, 1, 2, 3, 4)"
      ]
     },
     "execution_count": 44,
     "metadata": {},
     "output_type": "execute_result"
    }
   ],
   "source": [
    "x[-10:-5]"
   ]
  },
  {
   "cell_type": "markdown",
   "id": "f1636c3b",
   "metadata": {},
   "source": [
    "Contents can change, elements cannot"
   ]
  },
  {
   "cell_type": "code",
   "execution_count": 45,
   "id": "c9f167ea",
   "metadata": {},
   "outputs": [
    {
     "data": {
      "text/plain": [
       "([1, -10], [3, 4])"
      ]
     },
     "execution_count": 45,
     "metadata": {},
     "output_type": "execute_result"
    }
   ],
   "source": [
    "x = ([1,2],[3,4])\n",
    "x[0][1] = -10\n",
    "x"
   ]
  },
  {
   "cell_type": "code",
   "execution_count": null,
   "id": "9a90fc9d",
   "metadata": {},
   "outputs": [],
   "source": []
  },
  {
   "cell_type": "markdown",
   "id": "e813c83e",
   "metadata": {},
   "source": [
    "range(a,b,i) creates the sequences that follows the pattern a,a+i,a+2i,...,a+(m−1)i where m=(b−a)/i"
   ]
  },
  {
   "cell_type": "code",
   "execution_count": 46,
   "id": "e8d5ff69",
   "metadata": {},
   "outputs": [
    {
     "data": {
      "text/plain": [
       "range"
      ]
     },
     "execution_count": 46,
     "metadata": {},
     "output_type": "execute_result"
    }
   ],
   "source": [
    "x = range(3,10,3)\n",
    "type(x)"
   ]
  },
  {
   "cell_type": "code",
   "execution_count": 47,
   "id": "173e836e",
   "metadata": {},
   "outputs": [
    {
     "data": {
      "text/plain": [
       "range(3, 10, 3)"
      ]
     },
     "execution_count": 47,
     "metadata": {},
     "output_type": "execute_result"
    }
   ],
   "source": [
    "x"
   ]
  },
  {
   "cell_type": "code",
   "execution_count": 48,
   "id": "4c4514d3",
   "metadata": {},
   "outputs": [
    {
     "data": {
      "text/plain": [
       "[3, 6, 9]"
      ]
     },
     "execution_count": 48,
     "metadata": {},
     "output_type": "execute_result"
    }
   ],
   "source": [
    "list(x)"
   ]
  },
  {
   "cell_type": "code",
   "execution_count": null,
   "id": "2a2d8a2b",
   "metadata": {},
   "outputs": [],
   "source": []
  },
  {
   "cell_type": "markdown",
   "id": "ff394a7a",
   "metadata": {},
   "source": [
    "Dictionaries are used to store data values in key:value pairs. \n",
    "\n",
    "A dictionary is a collection which is unordered, changeable and does not allow duplicates.\n",
    "\n",
    "Dictionaries are written with curly brackets  {  }, and have keys and values"
   ]
  },
  {
   "cell_type": "code",
   "execution_count": 49,
   "id": "43c434e4",
   "metadata": {},
   "outputs": [
    {
     "data": {
      "text/plain": [
       "{'brand': 'Ford', 'model': 'Mustang', 'year': 1964}"
      ]
     },
     "execution_count": 49,
     "metadata": {},
     "output_type": "execute_result"
    }
   ],
   "source": [
    "d1 = {'brand': 'Ford','model': 'Mustang','year': 1964}\n",
    "d1"
   ]
  },
  {
   "cell_type": "markdown",
   "id": "471287c8",
   "metadata": {},
   "source": [
    "You can also construct a dictionary with the built-in dict() function."
   ]
  },
  {
   "cell_type": "code",
   "execution_count": 50,
   "id": "5013f7dc",
   "metadata": {},
   "outputs": [
    {
     "data": {
      "text/plain": [
       "{'brand': 'Ford', 'model': 'Mustang', 'year': 1964}"
      ]
     },
     "execution_count": 50,
     "metadata": {},
     "output_type": "execute_result"
    }
   ],
   "source": [
    "d2 =dict([('brand', 'Ford'),('model', 'Mustang'),('year', 1964)])\n",
    "d2"
   ]
  },
  {
   "cell_type": "code",
   "execution_count": null,
   "id": "83cb1164",
   "metadata": {},
   "outputs": [],
   "source": []
  }
 ],
 "metadata": {
  "kernelspec": {
   "display_name": "Python 3",
   "language": "python",
   "name": "python3"
  },
  "language_info": {
   "codemirror_mode": {
    "name": "ipython",
    "version": 3
   },
   "file_extension": ".py",
   "mimetype": "text/x-python",
   "name": "python",
   "nbconvert_exporter": "python",
   "pygments_lexer": "ipython3",
   "version": "3.8.8"
  }
 },
 "nbformat": 4,
 "nbformat_minor": 5
}
