{
 "cells": [
  {
   "cell_type": "markdown",
   "id": "d8fcbdb5",
   "metadata": {},
   "source": [
    "# Mock Assignment"
   ]
  },
  {
   "cell_type": "markdown",
   "id": "96a23c23",
   "metadata": {},
   "source": [
    "## The aim of this exercise is to write a program to convert a distance in Kilometres into a distance in miles."
   ]
  },
  {
   "cell_type": "markdown",
   "id": "397ba771",
   "metadata": {},
   "source": [
    "Q1\n",
    "\n",
    "Take input from the user for a given distance in Kilometres. \n",
    "\n",
    "This can be done using the input() function as follows:\n",
    "\n",
    "input('Enter distance in kilometers is ')"
   ]
  },
  {
   "cell_type": "code",
   "execution_count": 1,
   "id": "d2065f63",
   "metadata": {},
   "outputs": [
    {
     "name": "stdout",
     "output_type": "stream",
     "text": [
      "Enter distance in kilometers is 100\n"
     ]
    }
   ],
   "source": [
    "dist_in_km = input('Enter distance in kilometers is ')"
   ]
  },
  {
   "cell_type": "code",
   "execution_count": null,
   "id": "d7050965",
   "metadata": {},
   "outputs": [],
   "source": []
  },
  {
   "cell_type": "markdown",
   "id": "0373f106",
   "metadata": {},
   "source": [
    "Q2\n",
    "\n",
    "Convert the value returned by the input() function from a string into an integer using the int() function."
   ]
  },
  {
   "cell_type": "code",
   "execution_count": 2,
   "id": "33dde11f",
   "metadata": {},
   "outputs": [],
   "source": [
    "dist_in_km = int(dist_in_km)"
   ]
  },
  {
   "cell_type": "code",
   "execution_count": null,
   "id": "3f3369a2",
   "metadata": {},
   "outputs": [],
   "source": []
  },
  {
   "cell_type": "markdown",
   "id": "52e3773f",
   "metadata": {},
   "source": [
    "Q3\n",
    "\n",
    "Now convert this value into miles \n",
    "\n",
    "this can be done by multiplying the kilometres by 0.6214"
   ]
  },
  {
   "cell_type": "code",
   "execution_count": 3,
   "id": "528e0a00",
   "metadata": {},
   "outputs": [],
   "source": [
    "dist_in_mile = dist_in_km *0.6214"
   ]
  },
  {
   "cell_type": "code",
   "execution_count": null,
   "id": "36152bb9",
   "metadata": {},
   "outputs": [],
   "source": []
  },
  {
   "cell_type": "markdown",
   "id": "ecb69187",
   "metadata": {},
   "source": [
    "Q4\n",
    "\n",
    "Print out a message telling the user what the kilometres are in miles"
   ]
  },
  {
   "cell_type": "code",
   "execution_count": 4,
   "id": "ebfe44f1",
   "metadata": {},
   "outputs": [
    {
     "name": "stdout",
     "output_type": "stream",
     "text": [
      "100 kilometers are in  62.13999999999999 miles\n"
     ]
    }
   ],
   "source": [
    "print(dist_in_km,'kilometers are in ', dist_in_mile, 'miles')"
   ]
  },
  {
   "cell_type": "code",
   "execution_count": null,
   "id": "4e2c31df",
   "metadata": {},
   "outputs": [],
   "source": []
  },
  {
   "cell_type": "code",
   "execution_count": null,
   "id": "9583cf5f",
   "metadata": {},
   "outputs": [],
   "source": []
  },
  {
   "cell_type": "code",
   "execution_count": null,
   "id": "0698a948",
   "metadata": {},
   "outputs": [],
   "source": []
  }
 ],
 "metadata": {
  "kernelspec": {
   "display_name": "Python 3",
   "language": "python",
   "name": "python3"
  },
  "language_info": {
   "codemirror_mode": {
    "name": "ipython",
    "version": 3
   },
   "file_extension": ".py",
   "mimetype": "text/x-python",
   "name": "python",
   "nbconvert_exporter": "python",
   "pygments_lexer": "ipython3",
   "version": "3.8.8"
  }
 },
 "nbformat": 4,
 "nbformat_minor": 5
}
